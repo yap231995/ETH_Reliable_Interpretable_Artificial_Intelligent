{
 "cells": [
  {
   "cell_type": "code",
   "execution_count": null,
   "metadata": {},
   "outputs": [],
   "source": [
    "import torch\n",
    "import torch.nn as nn\n",
    "import torch.optim as optim\n",
    "import torch.nn.functional as F\n",
    "import numpy as np\n",
    "import time\n",
    "\n",
    "from torchvision import datasets, transforms\n",
    "from tensorboardX import SummaryWriter\n",
    "from model import Net, ConvNet\n",
    "use_cuda = False\n",
    "device = torch.device(\"cuda\" if use_cuda else \"cpu\")\n",
    "batch_size = 64\n",
    "\n",
    "import matplotlib.pyplot as plt"
   ]
  },
  {
   "cell_type": "code",
   "execution_count": null,
   "metadata": {},
   "outputs": [],
   "source": [
    "np.random.seed(42)\n",
    "torch.manual_seed(42)"
   ]
  },
  {
   "cell_type": "code",
   "execution_count": null,
   "metadata": {},
   "outputs": [],
   "source": [
    "# loading the dataset\n",
    "# note that this time we do not perfrom the normalization operation, see next cell\n",
    "test_dataset = datasets.MNIST('mnist_data/', train=False, download=True, transform=transforms.Compose(\n",
    "    [transforms.ToTensor()]\n",
    "))"
   ]
  },
  {
   "cell_type": "code",
   "execution_count": null,
   "metadata": {},
   "outputs": [],
   "source": [
    "class Normalize(nn.Module):\n",
    "    def forward(self, x):\n",
    "        return (x - 0.1307)/0.3081\n",
    "\n",
    "# we load the body of the neural net trained with mnist_train.ipynb...\n",
    "model = torch.load('model.net', map_location='cpu') \n",
    "\n",
    "# ... and add the data normalization as a first \"layer\" to the network\n",
    "# this allows us to search for adverserial examples to the real image, rather than\n",
    "# to the normalized image\n",
    "model = nn.Sequential(Normalize(), model)\n",
    "\n",
    "# and here we also create a version of the model that outputs the class probabilities\n",
    "model_to_prob = nn.Sequential(model, nn.Softmax())\n",
    "\n",
    "# we put the neural net into evaluation mode (this disables features like dropout)\n",
    "model.eval()\n",
    "model_to_prob.eval()"
   ]
  },
  {
   "cell_type": "code",
   "execution_count": null,
   "metadata": {},
   "outputs": [],
   "source": [
    "# define a show function for later\n",
    "def show(original, adv, model_to_prob):\n",
    "    p0 = model_to_prob(original).detach().numpy()\n",
    "    p1 = model_to_prob(adv).detach().numpy()\n",
    "    f, axarr = plt.subplots(1,2)\n",
    "    axarr[0].imshow(original.detach().numpy().reshape(28, 28), cmap='gray')\n",
    "    axarr[0].set_title(\"Original, class: \" + str(p0.argmax()))\n",
    "    axarr[1].imshow(adv.detach().numpy().reshape(28, 28), cmap='gray')\n",
    "    axarr[1].set_title(\"Original, class: \" + str(p1.argmax()))\n",
    "    print(\"Class\\t\\tOrig\\tAdv\")\n",
    "    for i in range(10):\n",
    "        print(\"Class {}:\\t{:.2f}\\t{:.2f}\".format(i, float(p0[:, i]), float(p1[:, i])))"
   ]
  },
  {
   "cell_type": "code",
   "execution_count": null,
   "metadata": {},
   "outputs": [],
   "source": [
    "def fgsm_targeted(model, x, target, eps):\n",
    "    # TODO: implement\n",
    "    return x\n",
    "\n",
    "def fgsm_untargeted(model, x, label, eps):\n",
    "    # TODO: implement\n",
    "    return x\n",
    "\n",
    "def pgd_targeted(model, x, target, k, eps, eps_step):\n",
    "    # TODO: implement\n",
    "    return x\n",
    "\n",
    "def pgd_untargeted(model, x, label, k, eps, eps_step):\n",
    "    # TODO: implement\n",
    "    return x"
   ]
  },
  {
   "cell_type": "code",
   "execution_count": null,
   "metadata": {},
   "outputs": [],
   "source": [
    "# try out our attacks\n",
    "original = torch.unsqueeze(test_dataset[0][0], dim=0)\n",
    "adv = pgd_untargeted(model, original, 7, 10, 0.08, 0.05, clip_min=0, clip_max=1.0)\n",
    "show(original, adv, model_to_prob)"
   ]
  }
 ],
 "metadata": {
  "kernelspec": {
   "display_name": "Python 3",
   "language": "python",
   "name": "python3"
  },
  "language_info": {
   "codemirror_mode": {
    "name": "ipython",
    "version": 3
   },
   "file_extension": ".py",
   "mimetype": "text/x-python",
   "name": "python",
   "nbconvert_exporter": "python",
   "pygments_lexer": "ipython3",
   "version": "3.7.6"
  }
 },
 "nbformat": 4,
 "nbformat_minor": 2
}
